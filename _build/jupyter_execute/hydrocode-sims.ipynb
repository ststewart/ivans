{
 "cells": [
  {
   "cell_type": "markdown",
   "id": "1810609c-fae8-4e68-8036-526bcd1864d6",
   "metadata": {
    "editable": true,
    "slideshow": {
     "slide_type": ""
    },
    "tags": []
   },
   "source": [
    "# Hydrocode Simulations\n",
    "\n",
    "## PyKO\n",
    "Impact simulation plume expansion into the solar nebula was modeled using the one-dimensional finite difference hydrocode pyKO. The code is written in python and based on the formulation presented in {cite}`Wilkins1999`. The user manual, validation tests, and source code are available on GitHub at [https://impactswiki.github.io/pyko/](https://impactswiki.github.io/pyko/intro.html).\n",
    "\n",
    "To cite the pyKO code, use:\n",
    "\n",
    "Stewart, S. T. pyKO code, doi:10.5281/zenodo.8092348, 2023.\n",
    "\n",
    "This work used version 0.8.3. The pyKO source code is in `pyko.py` and associated equation of state functions are in `eos-table.py`.\n",
    "\n",
    "The extracted data needed to recreate the figures in the paper are included in this repository in the `data` subdirectory. Example pyKO input files and scripts to run the set of simulations and to read the binary data output files are included in the `pyko-sims` subdirectory.\n",
    "\n",
    "## CTH\n",
    "This work used the CTH shock physics code (v11.1) {cite}`McGlaun1990,Crawford1999`, which is licensed from [Sandia National Laboratories](https://www.sandia.gov/cth/). The input files for the figures in the paper are included in this repository:\n",
    "\n",
    "* [2D CTH input file, Figure 6](./cth-sims/g012-2d.in)\n",
    "* [3D CTH input file, Figure 7](./cth-sims/f001-3d.in)\n",
    "\n",
    "See animations of these calculations in [](cth-vids).\n",
    "\n",
    "## Equations of State\n",
    "\n",
    "In this work, we focus on the interaction between a vapor plume and the surrounding solar nebula by simulating the expansion of a parcel of shocked material in 1d spherical symmetry. The initial condition is a parcel of shock-compressed material surrounded by hydrogen gas. We considered pure water and pure silica glass (SiO$_2$) as end-member materials that can dominate the vapor in water-rich and water-poor impact ejecta, respectively. We used ANEOS equation of state models for H$_2$O and fused silica with these input files:\n",
    "\n",
    "* [Water ANEOS input file](./aneos-water/ANEOS.INPUT)\n",
    "* [Fused silica ANEOS input file](./aneos-fused-silica-vp/ANEOS.INPUT)\n",
    "\n",
    "In the supplementary materials subdirectories for `aneos-water` and `aneos-fused-silica-vp` for the ascii tabulated equation of state files used in this work. The development sites for these equations of state are:\n",
    "\n",
    "* https://github.com/ststewart/aneos-water [![DOI](https://zenodo.org/badge/874939198.svg)](https://doi.org/10.5281/zenodo.14226693)\n",
    "* https://github.com/ststewart/aneos-fused-silica [![DOI](https://zenodo.org/badge/DOI/10.5281/zenodo.14226685.svg)](https://doi.org/10.5281/zenodo.14226685)\n",
    "\n",
    "The other equations of state are an ideal gas, [ideal dust-gas mixture](./figure8and21.ipynb), and hydrogen tabular equation of state (SESAME table 5250 from {cite}`Kerley2003`}.\n",
    "\n",
    "## Plume Parameters\n",
    "The initial plume radii were 1, 5, 25, and 125 km.\n",
    "\n",
    "$\n",
    "\\begin{array}{lrrrrrrrr}\n",
    "\\text {Table 1: Water plumes (Paper Table 1)} &  \\\\\n",
    "\\hline\n",
    "\\text {Shock Pressures [GPa]} & 10 & 15 & 20 & 40 & 80 & 120 & 160 & 200 \\\\\n",
    "\\text {Shock Density [g/cm}^3\\text{]} & 1.90 & 2.01 & 2.09 & 2.33 & 2.63 & 2.84 & 3.00 & 3.12 \\\\\n",
    "\\text {Shock Temperature [K]} &  479 & 682 & 868 & 1865 & 3979 & 6071 & 8342 & 10908 \\\\\n",
    "\\text {Shock Sp. Energy [MJ/kg]} & 1.55 & 2.44 & 3.39 & 7.59 & 16.99 & 27.07 & 37.49 & 48.10\\\\\n",
    "\\text {Shock Sp. Entropies [kJ/K/kg]} & 3.82 & 4.77 & 5.57 & 7.69 & 10.00 & 11.47 & 12.58 & 13.45 \\\\\n",
    "\\text {Equivalent Planar } V_i \\text { [km/s]} & 3.31 & 4.25 & 5.06 & 7.70 & 11.59 & 14.66 & 17.27 & 19.58 \\\\\n",
    "\\hline\n",
    "\\end{array}$\n",
    "\n",
    "\n",
    "$\n",
    "\\begin{array}{lrrrrrr}\n",
    "\\text {Table 2: Silica plumes (Paper Table 4)} &  \\\\\n",
    "\\hline\\\n",
    "\\text {Shock Pressures [GPa]} & 100 & 150 & 200 & 250 & 350 & 450 \\\\\n",
    "\\text {Shock Density [g/cm}^3\\text{]} & 4.72 & 4.89 & 5.04 & 5.17 & 5.38 & 5.56   \\\\\n",
    "\\text {Shock Temperature [K]} & 7210 & 11275 & 15330 & 19354 & 27247 & 34936  \\\\\n",
    "\\text {Shock Sp. Energy [MJ/kg]} & 12.18 & 18.80 & 25.65 & 32.67 & 47.08 & 61.84  \\\\\n",
    "\\text {Shock Sp. Entropies [kJ/K/kg]} & 3.85 & 4.47 & 4.90 & 5.23 & 5.72 & 6.08  \\\\\n",
    "\\text {Equivalent Planar } V_i \\text { [km/s]} & 9.85 & 12.25 & 14.31 & 16.15 & 19.40 & 22.23  \\\\\n",
    "\\hline\n",
    "\\end{array}$\n",
    "\n",
    "## Nebula Parameters\n",
    "\n",
    "$\n",
    "\\begin{array}{ll}\n",
    "\\text {Table 3: Nebula Parameters of pure ideal gas} &  \\\\\n",
    "\\hline \n",
    "\\text{Nebula Pressures [Pa]} & .01, .1, 1 \\\\\n",
    "\\text{Nebula Densities [kg/m}^3\\text{]} & \\text{1.4E-8, 1.4E-7, 1.4E-6} \\\\\n",
    "\\hline\n",
    "\\end{array}$\n",
    "\n",
    "The protosolar nebula ideal gas initial conditions were taken from {cite}`lodders_solar_2003`: 0.711 mass fraction hydrogen, 0.2741 mass fraction helium, 0.0149 mass fraction other elements. Renormalizing the H$_2$-He gas gives 0.722 H$_2$ and 0.278 He mass fractions, corresponding to a mean molecular weight of 2.34 g/mol. The nominal initial temperature is 200 K.\n",
    "\n",
    "The ideal dust-gas mixture model is described in section [](dig-model)."
   ]
  },
  {
   "cell_type": "code",
   "execution_count": 1,
   "id": "b3563c40-011c-49bf-bd06-6b3f4a8ad5c3",
   "metadata": {
    "editable": true,
    "slideshow": {
     "slide_type": ""
    },
    "tags": []
   },
   "outputs": [
    {
     "name": "stdout",
     "output_type": "stream",
     "text": [
      "H2 and He mole fractions =  0.8375733639656686 0.1624266360343314\n"
     ]
    }
   ],
   "source": [
    "# Protosolar mass fractions for H and He from Lodders 2003\n",
    "#print(0.711/(0.711+0.2741))\n",
    "#print(0.2741/(0.711+0.2741))\n",
    "#print(0.722+0.278) # mass fractions\n",
    "H2_mass_frac = 0.722\n",
    "He_mass_frac = 0.278\n",
    "# convert to mole fraction\n",
    "H2_g_per_mole = 2.0159 #g/mol for pure H2\n",
    "He_g_per_mole = 4.0026 #g/mol for pure He\n",
    "H2_tmp = H2_mass_frac/H2_g_per_mole\n",
    "He_tmp = He_mass_frac/He_g_per_mole\n",
    "H2_mole_frac = H2_tmp/(H2_tmp+He_tmp)\n",
    "He_mole_frac = He_tmp/(H2_tmp+He_tmp)\n",
    "print('H2 and He mole fractions = ',H2_mole_frac, He_mole_frac)\n"
   ]
  },
  {
   "cell_type": "code",
   "execution_count": 2,
   "id": "1b4081f7-111e-4de7-85de-bdc859cacbe5",
   "metadata": {
    "editable": true,
    "slideshow": {
     "slide_type": ""
    },
    "tags": []
   },
   "outputs": [
    {
     "name": "stdout",
     "output_type": "stream",
     "text": [
      "T= 300.00000000000006\n",
      "mks units rho, gamma, P, T, cv_sp, E, E/cv_sp =  8.082351054446315e-08 1.4 0.1 300 10310.531276352995 3093159.382905899 300.00000000000006\n",
      "cv_sp_aneos= 8885.325126122885\n",
      "code units rho, gamma, P, cv_sp, E =  8.082351054446315e-11 1.4 1e-12 8.333333333333334e-15 2.5000000000000007e-12\n",
      "300.00000000000006\n",
      "convert cv to code units  0.00010310531276352994\n",
      "Average grams per mole =  2.338592997809406\n"
     ]
    }
   ],
   "source": [
    "# Ideal gas solar nebula\n",
    "\n",
    "# Pure H2 first\n",
    "# MKS first and then convert to code units\n",
    "R = 8.314 # J/K/mol =  m3 Pa / (K mol)\n",
    "g_per_mole = 2.0159 #g/mol for pure H2\n",
    "kg_per_mole = g_per_mole/1000. # kg/mol \n",
    "atoms_per_mol = 2. # atoms per molecule\n",
    "cv = 5./2.*R # diatomic   m3 Pa / (K mol)\n",
    "cp = cv + R\n",
    "gamma = cp/cv\n",
    "T = 300 # K room temp initial state\n",
    "P = 0.1 # Pa - nominal dispersing nebula pressure\n",
    "\n",
    "rho = P / (R * T) * kg_per_mole # kg/m3\n",
    "E = P/(gamma-1.)/rho # kg m/s2 /m2 * m3/kg == m2/s2 (specific internal energy)\n",
    "cv_sp = cv / (kg_per_mole) # J/K/kg\n",
    "cv_sp_aneos = cv_sp*1.e7/1000./11604. # erg/ev/g\n",
    "print('T=',E/cv_sp)\n",
    "print('mks units rho, gamma, P, T, cv_sp, E, E/cv_sp = ',rho,gamma,P,T,cv_sp,E,E/cv_sp)\n",
    "print('cv_sp_aneos=',cv_sp_aneos)\n",
    "\n",
    "# convert to pyKO code units\n",
    "eu = 100e3 # J -> eu ; code energy unit eu = 100 kJ\n",
    "P_code = P/1.e11 # Pa -> Mbar\n",
    "rho_code = rho/1000. # kg/m3 ->> g/cm3\n",
    "\n",
    "E_code = E*rho / 1.e11 # eu/cm3 = 100 GJ/m3\n",
    "cv_code = cv_sp * rho /1.e11 # eu/K/cm3 = 100 GJ/K/m3\n",
    "\n",
    "print('code units rho, gamma, P, cv_sp, E = ',rho_code,gamma,P_code,cv_code,E_code)\n",
    "print(E_code/cv_code)\n",
    "\n",
    "cv_code_perg = cv_code/rho_code\n",
    "print('convert cv to code units ',cv_code_perg)\n",
    "\n",
    "H2_g_per_mole = 2.0159 #g/mol for pure H2\n",
    "He_g_per_mole = 4.0026 #g/mol for pure He\n",
    "g_per_mole = H2_mole_frac*H2_g_per_mole + He_mole_frac*He_g_per_mole\n",
    "kg_per_mole = g_per_mole/1000. # kg/mol\n",
    "print('Average grams per mole = ',g_per_mole)"
   ]
  },
  {
   "cell_type": "code",
   "execution_count": null,
   "id": "08aa1fea-d76b-463e-b5a4-9969fed860f8",
   "metadata": {
    "editable": true,
    "slideshow": {
     "slide_type": ""
    },
    "tags": []
   },
   "outputs": [],
   "source": []
  },
  {
   "cell_type": "code",
   "execution_count": null,
   "id": "f7910a07-abd9-4c68-ad4c-8098d71b0e47",
   "metadata": {},
   "outputs": [],
   "source": []
  }
 ],
 "metadata": {
  "kernelspec": {
   "display_name": "Python 3 (ipykernel)",
   "language": "python",
   "name": "python3"
  },
  "language_info": {
   "codemirror_mode": {
    "name": "ipython",
    "version": 3
   },
   "file_extension": ".py",
   "mimetype": "text/x-python",
   "name": "python",
   "nbconvert_exporter": "python",
   "pygments_lexer": "ipython3",
   "version": "3.11.10"
  }
 },
 "nbformat": 4,
 "nbformat_minor": 5
}